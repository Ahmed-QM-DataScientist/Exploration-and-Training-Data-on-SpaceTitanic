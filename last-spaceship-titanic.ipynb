{
 "cells": [
  {
   "cell_type": "code",
   "execution_count": 1,
   "id": "80636ba3",
   "metadata": {
    "_cell_guid": "b1076dfc-b9ad-4769-8c92-a6c4dae69d19",
    "_uuid": "8f2839f25d086af736a60e9eeb907d3b93b6e0e5",
    "execution": {
     "iopub.execute_input": "2023-03-04T10:46:15.811086Z",
     "iopub.status.busy": "2023-03-04T10:46:15.810034Z",
     "iopub.status.idle": "2023-03-04T10:46:15.830636Z",
     "shell.execute_reply": "2023-03-04T10:46:15.829446Z"
    },
    "papermill": {
     "duration": 0.036901,
     "end_time": "2023-03-04T10:46:15.834101",
     "exception": false,
     "start_time": "2023-03-04T10:46:15.797200",
     "status": "completed"
    },
    "tags": []
   },
   "outputs": [
    {
     "name": "stdout",
     "output_type": "stream",
     "text": [
      "/kaggle/input/spaceship-titanic/sample_submission.csv\n",
      "/kaggle/input/spaceship-titanic/train.csv\n",
      "/kaggle/input/spaceship-titanic/test.csv\n"
     ]
    }
   ],
   "source": [
    "# This Python 3 environment comes with many helpful analytics libraries installed\n",
    "# It is defined by the kaggle/python Docker image: https://github.com/kaggle/docker-python\n",
    "# For example, here's several helpful packages to load\n",
    "\n",
    "import numpy as np # linear algebra\n",
    "import pandas as pd # data processing, CSV file I/O (e.g. pd.read_csv)\n",
    "\n",
    "# Input data files are available in the read-only \"../input/\" directory\n",
    "# For example, running this (by clicking run or pressing Shift+Enter) will list all files under the input directory\n",
    "\n",
    "import os\n",
    "for dirname, _, filenames in os.walk('/kaggle/input'):\n",
    "    for filename in filenames:\n",
    "        print(os.path.join(dirname, filename))\n",
    "import matplotlib.pyplot as plt\n",
    "import pandas as pd\n",
    "import pylab as pl\n",
    "import numpy as np\n",
    "%matplotlib inline\n",
    "\n",
    "# You can write up to 20GB to the current directory (/kaggle/working/) that gets preserved as output when you create a version using \"Save & Run All\" \n",
    "# You can also write temporary files to /kaggle/temp/, but they won't be saved outside of the current session"
   ]
  },
  {
   "cell_type": "code",
   "execution_count": 2,
   "id": "4fefb528",
   "metadata": {
    "execution": {
     "iopub.execute_input": "2023-03-04T10:46:15.856141Z",
     "iopub.status.busy": "2023-03-04T10:46:15.855698Z",
     "iopub.status.idle": "2023-03-04T10:46:15.932127Z",
     "shell.execute_reply": "2023-03-04T10:46:15.930861Z"
    },
    "papermill": {
     "duration": 0.089909,
     "end_time": "2023-03-04T10:46:15.934690",
     "exception": false,
     "start_time": "2023-03-04T10:46:15.844781",
     "status": "completed"
    },
    "tags": []
   },
   "outputs": [],
   "source": [
    "train = pd.read_csv(\"/kaggle/input/spaceship-titanic/train.csv\")\n",
    "test = pd.read_csv(\"/kaggle/input/spaceship-titanic/test.csv\")"
   ]
  },
  {
   "cell_type": "markdown",
   "id": "67324b83",
   "metadata": {
    "papermill": {
     "duration": 0.010736,
     "end_time": "2023-03-04T10:46:15.954966",
     "exception": false,
     "start_time": "2023-03-04T10:46:15.944230",
     "status": "completed"
    },
    "tags": []
   },
   "source": [
    "# ****Data exploration****"
   ]
  },
  {
   "cell_type": "code",
   "execution_count": 3,
   "id": "763101bc",
   "metadata": {
    "execution": {
     "iopub.execute_input": "2023-03-04T10:46:15.975285Z",
     "iopub.status.busy": "2023-03-04T10:46:15.974601Z",
     "iopub.status.idle": "2023-03-04T10:46:16.017390Z",
     "shell.execute_reply": "2023-03-04T10:46:16.016171Z"
    },
    "papermill": {
     "duration": 0.055984,
     "end_time": "2023-03-04T10:46:16.020233",
     "exception": false,
     "start_time": "2023-03-04T10:46:15.964249",
     "status": "completed"
    },
    "tags": []
   },
   "outputs": [
    {
     "data": {
      "text/html": [
       "<div>\n",
       "<style scoped>\n",
       "    .dataframe tbody tr th:only-of-type {\n",
       "        vertical-align: middle;\n",
       "    }\n",
       "\n",
       "    .dataframe tbody tr th {\n",
       "        vertical-align: top;\n",
       "    }\n",
       "\n",
       "    .dataframe thead th {\n",
       "        text-align: right;\n",
       "    }\n",
       "</style>\n",
       "<table border=\"1\" class=\"dataframe\">\n",
       "  <thead>\n",
       "    <tr style=\"text-align: right;\">\n",
       "      <th></th>\n",
       "      <th>PassengerId</th>\n",
       "      <th>HomePlanet</th>\n",
       "      <th>CryoSleep</th>\n",
       "      <th>Cabin</th>\n",
       "      <th>Destination</th>\n",
       "      <th>Age</th>\n",
       "      <th>VIP</th>\n",
       "      <th>RoomService</th>\n",
       "      <th>FoodCourt</th>\n",
       "      <th>ShoppingMall</th>\n",
       "      <th>Spa</th>\n",
       "      <th>VRDeck</th>\n",
       "      <th>Name</th>\n",
       "      <th>Transported</th>\n",
       "    </tr>\n",
       "  </thead>\n",
       "  <tbody>\n",
       "    <tr>\n",
       "      <th>0</th>\n",
       "      <td>0001_01</td>\n",
       "      <td>Europa</td>\n",
       "      <td>False</td>\n",
       "      <td>B/0/P</td>\n",
       "      <td>TRAPPIST-1e</td>\n",
       "      <td>39.0</td>\n",
       "      <td>False</td>\n",
       "      <td>0.0</td>\n",
       "      <td>0.0</td>\n",
       "      <td>0.0</td>\n",
       "      <td>0.0</td>\n",
       "      <td>0.0</td>\n",
       "      <td>Maham Ofracculy</td>\n",
       "      <td>False</td>\n",
       "    </tr>\n",
       "    <tr>\n",
       "      <th>1</th>\n",
       "      <td>0002_01</td>\n",
       "      <td>Earth</td>\n",
       "      <td>False</td>\n",
       "      <td>F/0/S</td>\n",
       "      <td>TRAPPIST-1e</td>\n",
       "      <td>24.0</td>\n",
       "      <td>False</td>\n",
       "      <td>109.0</td>\n",
       "      <td>9.0</td>\n",
       "      <td>25.0</td>\n",
       "      <td>549.0</td>\n",
       "      <td>44.0</td>\n",
       "      <td>Juanna Vines</td>\n",
       "      <td>True</td>\n",
       "    </tr>\n",
       "    <tr>\n",
       "      <th>2</th>\n",
       "      <td>0003_01</td>\n",
       "      <td>Europa</td>\n",
       "      <td>False</td>\n",
       "      <td>A/0/S</td>\n",
       "      <td>TRAPPIST-1e</td>\n",
       "      <td>58.0</td>\n",
       "      <td>True</td>\n",
       "      <td>43.0</td>\n",
       "      <td>3576.0</td>\n",
       "      <td>0.0</td>\n",
       "      <td>6715.0</td>\n",
       "      <td>49.0</td>\n",
       "      <td>Altark Susent</td>\n",
       "      <td>False</td>\n",
       "    </tr>\n",
       "    <tr>\n",
       "      <th>3</th>\n",
       "      <td>0003_02</td>\n",
       "      <td>Europa</td>\n",
       "      <td>False</td>\n",
       "      <td>A/0/S</td>\n",
       "      <td>TRAPPIST-1e</td>\n",
       "      <td>33.0</td>\n",
       "      <td>False</td>\n",
       "      <td>0.0</td>\n",
       "      <td>1283.0</td>\n",
       "      <td>371.0</td>\n",
       "      <td>3329.0</td>\n",
       "      <td>193.0</td>\n",
       "      <td>Solam Susent</td>\n",
       "      <td>False</td>\n",
       "    </tr>\n",
       "    <tr>\n",
       "      <th>4</th>\n",
       "      <td>0004_01</td>\n",
       "      <td>Earth</td>\n",
       "      <td>False</td>\n",
       "      <td>F/1/S</td>\n",
       "      <td>TRAPPIST-1e</td>\n",
       "      <td>16.0</td>\n",
       "      <td>False</td>\n",
       "      <td>303.0</td>\n",
       "      <td>70.0</td>\n",
       "      <td>151.0</td>\n",
       "      <td>565.0</td>\n",
       "      <td>2.0</td>\n",
       "      <td>Willy Santantines</td>\n",
       "      <td>True</td>\n",
       "    </tr>\n",
       "    <tr>\n",
       "      <th>...</th>\n",
       "      <td>...</td>\n",
       "      <td>...</td>\n",
       "      <td>...</td>\n",
       "      <td>...</td>\n",
       "      <td>...</td>\n",
       "      <td>...</td>\n",
       "      <td>...</td>\n",
       "      <td>...</td>\n",
       "      <td>...</td>\n",
       "      <td>...</td>\n",
       "      <td>...</td>\n",
       "      <td>...</td>\n",
       "      <td>...</td>\n",
       "      <td>...</td>\n",
       "    </tr>\n",
       "    <tr>\n",
       "      <th>8688</th>\n",
       "      <td>9276_01</td>\n",
       "      <td>Europa</td>\n",
       "      <td>False</td>\n",
       "      <td>A/98/P</td>\n",
       "      <td>55 Cancri e</td>\n",
       "      <td>41.0</td>\n",
       "      <td>True</td>\n",
       "      <td>0.0</td>\n",
       "      <td>6819.0</td>\n",
       "      <td>0.0</td>\n",
       "      <td>1643.0</td>\n",
       "      <td>74.0</td>\n",
       "      <td>Gravior Noxnuther</td>\n",
       "      <td>False</td>\n",
       "    </tr>\n",
       "    <tr>\n",
       "      <th>8689</th>\n",
       "      <td>9278_01</td>\n",
       "      <td>Earth</td>\n",
       "      <td>True</td>\n",
       "      <td>G/1499/S</td>\n",
       "      <td>PSO J318.5-22</td>\n",
       "      <td>18.0</td>\n",
       "      <td>False</td>\n",
       "      <td>0.0</td>\n",
       "      <td>0.0</td>\n",
       "      <td>0.0</td>\n",
       "      <td>0.0</td>\n",
       "      <td>0.0</td>\n",
       "      <td>Kurta Mondalley</td>\n",
       "      <td>False</td>\n",
       "    </tr>\n",
       "    <tr>\n",
       "      <th>8690</th>\n",
       "      <td>9279_01</td>\n",
       "      <td>Earth</td>\n",
       "      <td>False</td>\n",
       "      <td>G/1500/S</td>\n",
       "      <td>TRAPPIST-1e</td>\n",
       "      <td>26.0</td>\n",
       "      <td>False</td>\n",
       "      <td>0.0</td>\n",
       "      <td>0.0</td>\n",
       "      <td>1872.0</td>\n",
       "      <td>1.0</td>\n",
       "      <td>0.0</td>\n",
       "      <td>Fayey Connon</td>\n",
       "      <td>True</td>\n",
       "    </tr>\n",
       "    <tr>\n",
       "      <th>8691</th>\n",
       "      <td>9280_01</td>\n",
       "      <td>Europa</td>\n",
       "      <td>False</td>\n",
       "      <td>E/608/S</td>\n",
       "      <td>55 Cancri e</td>\n",
       "      <td>32.0</td>\n",
       "      <td>False</td>\n",
       "      <td>0.0</td>\n",
       "      <td>1049.0</td>\n",
       "      <td>0.0</td>\n",
       "      <td>353.0</td>\n",
       "      <td>3235.0</td>\n",
       "      <td>Celeon Hontichre</td>\n",
       "      <td>False</td>\n",
       "    </tr>\n",
       "    <tr>\n",
       "      <th>8692</th>\n",
       "      <td>9280_02</td>\n",
       "      <td>Europa</td>\n",
       "      <td>False</td>\n",
       "      <td>E/608/S</td>\n",
       "      <td>TRAPPIST-1e</td>\n",
       "      <td>44.0</td>\n",
       "      <td>False</td>\n",
       "      <td>126.0</td>\n",
       "      <td>4688.0</td>\n",
       "      <td>0.0</td>\n",
       "      <td>0.0</td>\n",
       "      <td>12.0</td>\n",
       "      <td>Propsh Hontichre</td>\n",
       "      <td>True</td>\n",
       "    </tr>\n",
       "  </tbody>\n",
       "</table>\n",
       "<p>8693 rows × 14 columns</p>\n",
       "</div>"
      ],
      "text/plain": [
       "     PassengerId HomePlanet CryoSleep     Cabin    Destination   Age    VIP  \\\n",
       "0        0001_01     Europa     False     B/0/P    TRAPPIST-1e  39.0  False   \n",
       "1        0002_01      Earth     False     F/0/S    TRAPPIST-1e  24.0  False   \n",
       "2        0003_01     Europa     False     A/0/S    TRAPPIST-1e  58.0   True   \n",
       "3        0003_02     Europa     False     A/0/S    TRAPPIST-1e  33.0  False   \n",
       "4        0004_01      Earth     False     F/1/S    TRAPPIST-1e  16.0  False   \n",
       "...          ...        ...       ...       ...            ...   ...    ...   \n",
       "8688     9276_01     Europa     False    A/98/P    55 Cancri e  41.0   True   \n",
       "8689     9278_01      Earth      True  G/1499/S  PSO J318.5-22  18.0  False   \n",
       "8690     9279_01      Earth     False  G/1500/S    TRAPPIST-1e  26.0  False   \n",
       "8691     9280_01     Europa     False   E/608/S    55 Cancri e  32.0  False   \n",
       "8692     9280_02     Europa     False   E/608/S    TRAPPIST-1e  44.0  False   \n",
       "\n",
       "      RoomService  FoodCourt  ShoppingMall     Spa  VRDeck               Name  \\\n",
       "0             0.0        0.0           0.0     0.0     0.0    Maham Ofracculy   \n",
       "1           109.0        9.0          25.0   549.0    44.0       Juanna Vines   \n",
       "2            43.0     3576.0           0.0  6715.0    49.0      Altark Susent   \n",
       "3             0.0     1283.0         371.0  3329.0   193.0       Solam Susent   \n",
       "4           303.0       70.0         151.0   565.0     2.0  Willy Santantines   \n",
       "...           ...        ...           ...     ...     ...                ...   \n",
       "8688          0.0     6819.0           0.0  1643.0    74.0  Gravior Noxnuther   \n",
       "8689          0.0        0.0           0.0     0.0     0.0    Kurta Mondalley   \n",
       "8690          0.0        0.0        1872.0     1.0     0.0       Fayey Connon   \n",
       "8691          0.0     1049.0           0.0   353.0  3235.0   Celeon Hontichre   \n",
       "8692        126.0     4688.0           0.0     0.0    12.0   Propsh Hontichre   \n",
       "\n",
       "      Transported  \n",
       "0           False  \n",
       "1            True  \n",
       "2           False  \n",
       "3           False  \n",
       "4            True  \n",
       "...           ...  \n",
       "8688        False  \n",
       "8689        False  \n",
       "8690         True  \n",
       "8691        False  \n",
       "8692         True  \n",
       "\n",
       "[8693 rows x 14 columns]"
      ]
     },
     "execution_count": 3,
     "metadata": {},
     "output_type": "execute_result"
    }
   ],
   "source": [
    "train"
   ]
  },
  {
   "cell_type": "code",
   "execution_count": 4,
   "id": "b3ed5e5e",
   "metadata": {
    "execution": {
     "iopub.execute_input": "2023-03-04T10:46:16.042332Z",
     "iopub.status.busy": "2023-03-04T10:46:16.041313Z",
     "iopub.status.idle": "2023-03-04T10:46:16.069157Z",
     "shell.execute_reply": "2023-03-04T10:46:16.067865Z"
    },
    "papermill": {
     "duration": 0.041648,
     "end_time": "2023-03-04T10:46:16.071896",
     "exception": false,
     "start_time": "2023-03-04T10:46:16.030248",
     "status": "completed"
    },
    "tags": []
   },
   "outputs": [
    {
     "data": {
      "text/html": [
       "<div>\n",
       "<style scoped>\n",
       "    .dataframe tbody tr th:only-of-type {\n",
       "        vertical-align: middle;\n",
       "    }\n",
       "\n",
       "    .dataframe tbody tr th {\n",
       "        vertical-align: top;\n",
       "    }\n",
       "\n",
       "    .dataframe thead th {\n",
       "        text-align: right;\n",
       "    }\n",
       "</style>\n",
       "<table border=\"1\" class=\"dataframe\">\n",
       "  <thead>\n",
       "    <tr style=\"text-align: right;\">\n",
       "      <th></th>\n",
       "      <th>PassengerId</th>\n",
       "      <th>HomePlanet</th>\n",
       "      <th>CryoSleep</th>\n",
       "      <th>Cabin</th>\n",
       "      <th>Destination</th>\n",
       "      <th>Age</th>\n",
       "      <th>VIP</th>\n",
       "      <th>RoomService</th>\n",
       "      <th>FoodCourt</th>\n",
       "      <th>ShoppingMall</th>\n",
       "      <th>Spa</th>\n",
       "      <th>VRDeck</th>\n",
       "      <th>Name</th>\n",
       "    </tr>\n",
       "  </thead>\n",
       "  <tbody>\n",
       "    <tr>\n",
       "      <th>0</th>\n",
       "      <td>0013_01</td>\n",
       "      <td>Earth</td>\n",
       "      <td>True</td>\n",
       "      <td>G/3/S</td>\n",
       "      <td>TRAPPIST-1e</td>\n",
       "      <td>27.0</td>\n",
       "      <td>False</td>\n",
       "      <td>0.0</td>\n",
       "      <td>0.0</td>\n",
       "      <td>0.0</td>\n",
       "      <td>0.0</td>\n",
       "      <td>0.0</td>\n",
       "      <td>Nelly Carsoning</td>\n",
       "    </tr>\n",
       "    <tr>\n",
       "      <th>1</th>\n",
       "      <td>0018_01</td>\n",
       "      <td>Earth</td>\n",
       "      <td>False</td>\n",
       "      <td>F/4/S</td>\n",
       "      <td>TRAPPIST-1e</td>\n",
       "      <td>19.0</td>\n",
       "      <td>False</td>\n",
       "      <td>0.0</td>\n",
       "      <td>9.0</td>\n",
       "      <td>0.0</td>\n",
       "      <td>2823.0</td>\n",
       "      <td>0.0</td>\n",
       "      <td>Lerome Peckers</td>\n",
       "    </tr>\n",
       "    <tr>\n",
       "      <th>2</th>\n",
       "      <td>0019_01</td>\n",
       "      <td>Europa</td>\n",
       "      <td>True</td>\n",
       "      <td>C/0/S</td>\n",
       "      <td>55 Cancri e</td>\n",
       "      <td>31.0</td>\n",
       "      <td>False</td>\n",
       "      <td>0.0</td>\n",
       "      <td>0.0</td>\n",
       "      <td>0.0</td>\n",
       "      <td>0.0</td>\n",
       "      <td>0.0</td>\n",
       "      <td>Sabih Unhearfus</td>\n",
       "    </tr>\n",
       "    <tr>\n",
       "      <th>3</th>\n",
       "      <td>0021_01</td>\n",
       "      <td>Europa</td>\n",
       "      <td>False</td>\n",
       "      <td>C/1/S</td>\n",
       "      <td>TRAPPIST-1e</td>\n",
       "      <td>38.0</td>\n",
       "      <td>False</td>\n",
       "      <td>0.0</td>\n",
       "      <td>6652.0</td>\n",
       "      <td>0.0</td>\n",
       "      <td>181.0</td>\n",
       "      <td>585.0</td>\n",
       "      <td>Meratz Caltilter</td>\n",
       "    </tr>\n",
       "    <tr>\n",
       "      <th>4</th>\n",
       "      <td>0023_01</td>\n",
       "      <td>Earth</td>\n",
       "      <td>False</td>\n",
       "      <td>F/5/S</td>\n",
       "      <td>TRAPPIST-1e</td>\n",
       "      <td>20.0</td>\n",
       "      <td>False</td>\n",
       "      <td>10.0</td>\n",
       "      <td>0.0</td>\n",
       "      <td>635.0</td>\n",
       "      <td>0.0</td>\n",
       "      <td>0.0</td>\n",
       "      <td>Brence Harperez</td>\n",
       "    </tr>\n",
       "    <tr>\n",
       "      <th>...</th>\n",
       "      <td>...</td>\n",
       "      <td>...</td>\n",
       "      <td>...</td>\n",
       "      <td>...</td>\n",
       "      <td>...</td>\n",
       "      <td>...</td>\n",
       "      <td>...</td>\n",
       "      <td>...</td>\n",
       "      <td>...</td>\n",
       "      <td>...</td>\n",
       "      <td>...</td>\n",
       "      <td>...</td>\n",
       "      <td>...</td>\n",
       "    </tr>\n",
       "    <tr>\n",
       "      <th>4272</th>\n",
       "      <td>9266_02</td>\n",
       "      <td>Earth</td>\n",
       "      <td>True</td>\n",
       "      <td>G/1496/S</td>\n",
       "      <td>TRAPPIST-1e</td>\n",
       "      <td>34.0</td>\n",
       "      <td>False</td>\n",
       "      <td>0.0</td>\n",
       "      <td>0.0</td>\n",
       "      <td>0.0</td>\n",
       "      <td>0.0</td>\n",
       "      <td>0.0</td>\n",
       "      <td>Jeron Peter</td>\n",
       "    </tr>\n",
       "    <tr>\n",
       "      <th>4273</th>\n",
       "      <td>9269_01</td>\n",
       "      <td>Earth</td>\n",
       "      <td>False</td>\n",
       "      <td>NaN</td>\n",
       "      <td>TRAPPIST-1e</td>\n",
       "      <td>42.0</td>\n",
       "      <td>False</td>\n",
       "      <td>0.0</td>\n",
       "      <td>847.0</td>\n",
       "      <td>17.0</td>\n",
       "      <td>10.0</td>\n",
       "      <td>144.0</td>\n",
       "      <td>Matty Scheron</td>\n",
       "    </tr>\n",
       "    <tr>\n",
       "      <th>4274</th>\n",
       "      <td>9271_01</td>\n",
       "      <td>Mars</td>\n",
       "      <td>True</td>\n",
       "      <td>D/296/P</td>\n",
       "      <td>55 Cancri e</td>\n",
       "      <td>NaN</td>\n",
       "      <td>False</td>\n",
       "      <td>0.0</td>\n",
       "      <td>0.0</td>\n",
       "      <td>0.0</td>\n",
       "      <td>0.0</td>\n",
       "      <td>0.0</td>\n",
       "      <td>Jayrin Pore</td>\n",
       "    </tr>\n",
       "    <tr>\n",
       "      <th>4275</th>\n",
       "      <td>9273_01</td>\n",
       "      <td>Europa</td>\n",
       "      <td>False</td>\n",
       "      <td>D/297/P</td>\n",
       "      <td>NaN</td>\n",
       "      <td>NaN</td>\n",
       "      <td>False</td>\n",
       "      <td>0.0</td>\n",
       "      <td>2680.0</td>\n",
       "      <td>0.0</td>\n",
       "      <td>0.0</td>\n",
       "      <td>523.0</td>\n",
       "      <td>Kitakan Conale</td>\n",
       "    </tr>\n",
       "    <tr>\n",
       "      <th>4276</th>\n",
       "      <td>9277_01</td>\n",
       "      <td>Earth</td>\n",
       "      <td>True</td>\n",
       "      <td>G/1498/S</td>\n",
       "      <td>PSO J318.5-22</td>\n",
       "      <td>43.0</td>\n",
       "      <td>False</td>\n",
       "      <td>0.0</td>\n",
       "      <td>0.0</td>\n",
       "      <td>0.0</td>\n",
       "      <td>0.0</td>\n",
       "      <td>0.0</td>\n",
       "      <td>Lilace Leonzaley</td>\n",
       "    </tr>\n",
       "  </tbody>\n",
       "</table>\n",
       "<p>4277 rows × 13 columns</p>\n",
       "</div>"
      ],
      "text/plain": [
       "     PassengerId HomePlanet CryoSleep     Cabin    Destination   Age    VIP  \\\n",
       "0        0013_01      Earth      True     G/3/S    TRAPPIST-1e  27.0  False   \n",
       "1        0018_01      Earth     False     F/4/S    TRAPPIST-1e  19.0  False   \n",
       "2        0019_01     Europa      True     C/0/S    55 Cancri e  31.0  False   \n",
       "3        0021_01     Europa     False     C/1/S    TRAPPIST-1e  38.0  False   \n",
       "4        0023_01      Earth     False     F/5/S    TRAPPIST-1e  20.0  False   \n",
       "...          ...        ...       ...       ...            ...   ...    ...   \n",
       "4272     9266_02      Earth      True  G/1496/S    TRAPPIST-1e  34.0  False   \n",
       "4273     9269_01      Earth     False       NaN    TRAPPIST-1e  42.0  False   \n",
       "4274     9271_01       Mars      True   D/296/P    55 Cancri e   NaN  False   \n",
       "4275     9273_01     Europa     False   D/297/P            NaN   NaN  False   \n",
       "4276     9277_01      Earth      True  G/1498/S  PSO J318.5-22  43.0  False   \n",
       "\n",
       "      RoomService  FoodCourt  ShoppingMall     Spa  VRDeck              Name  \n",
       "0             0.0        0.0           0.0     0.0     0.0   Nelly Carsoning  \n",
       "1             0.0        9.0           0.0  2823.0     0.0    Lerome Peckers  \n",
       "2             0.0        0.0           0.0     0.0     0.0   Sabih Unhearfus  \n",
       "3             0.0     6652.0           0.0   181.0   585.0  Meratz Caltilter  \n",
       "4            10.0        0.0         635.0     0.0     0.0   Brence Harperez  \n",
       "...           ...        ...           ...     ...     ...               ...  \n",
       "4272          0.0        0.0           0.0     0.0     0.0       Jeron Peter  \n",
       "4273          0.0      847.0          17.0    10.0   144.0     Matty Scheron  \n",
       "4274          0.0        0.0           0.0     0.0     0.0       Jayrin Pore  \n",
       "4275          0.0     2680.0           0.0     0.0   523.0    Kitakan Conale  \n",
       "4276          0.0        0.0           0.0     0.0     0.0  Lilace Leonzaley  \n",
       "\n",
       "[4277 rows x 13 columns]"
      ]
     },
     "execution_count": 4,
     "metadata": {},
     "output_type": "execute_result"
    }
   ],
   "source": [
    "test"
   ]
  },
  {
   "cell_type": "code",
   "execution_count": 5,
   "id": "e82842a6",
   "metadata": {
    "execution": {
     "iopub.execute_input": "2023-03-04T10:46:16.094661Z",
     "iopub.status.busy": "2023-03-04T10:46:16.093595Z",
     "iopub.status.idle": "2023-03-04T10:46:16.128602Z",
     "shell.execute_reply": "2023-03-04T10:46:16.127347Z"
    },
    "papermill": {
     "duration": 0.049138,
     "end_time": "2023-03-04T10:46:16.131175",
     "exception": false,
     "start_time": "2023-03-04T10:46:16.082037",
     "status": "completed"
    },
    "tags": []
   },
   "outputs": [
    {
     "name": "stdout",
     "output_type": "stream",
     "text": [
      "<class 'pandas.core.frame.DataFrame'>\n",
      "RangeIndex: 8693 entries, 0 to 8692\n",
      "Data columns (total 14 columns):\n",
      " #   Column        Non-Null Count  Dtype  \n",
      "---  ------        --------------  -----  \n",
      " 0   PassengerId   8693 non-null   object \n",
      " 1   HomePlanet    8492 non-null   object \n",
      " 2   CryoSleep     8476 non-null   object \n",
      " 3   Cabin         8494 non-null   object \n",
      " 4   Destination   8511 non-null   object \n",
      " 5   Age           8514 non-null   float64\n",
      " 6   VIP           8490 non-null   object \n",
      " 7   RoomService   8512 non-null   float64\n",
      " 8   FoodCourt     8510 non-null   float64\n",
      " 9   ShoppingMall  8485 non-null   float64\n",
      " 10  Spa           8510 non-null   float64\n",
      " 11  VRDeck        8505 non-null   float64\n",
      " 12  Name          8493 non-null   object \n",
      " 13  Transported   8693 non-null   bool   \n",
      "dtypes: bool(1), float64(6), object(7)\n",
      "memory usage: 891.5+ KB\n",
      "------------------------------------------------------------------------------------------------------------------------------------------------------------------------------------------------------------------\n",
      "------------------------------------------------------------------------------------------------------------------------------------------------------------------------------------------------------------------\n",
      "<class 'pandas.core.frame.DataFrame'>\n",
      "RangeIndex: 4277 entries, 0 to 4276\n",
      "Data columns (total 13 columns):\n",
      " #   Column        Non-Null Count  Dtype  \n",
      "---  ------        --------------  -----  \n",
      " 0   PassengerId   4277 non-null   object \n",
      " 1   HomePlanet    4190 non-null   object \n",
      " 2   CryoSleep     4184 non-null   object \n",
      " 3   Cabin         4177 non-null   object \n",
      " 4   Destination   4185 non-null   object \n",
      " 5   Age           4186 non-null   float64\n",
      " 6   VIP           4184 non-null   object \n",
      " 7   RoomService   4195 non-null   float64\n",
      " 8   FoodCourt     4171 non-null   float64\n",
      " 9   ShoppingMall  4179 non-null   float64\n",
      " 10  Spa           4176 non-null   float64\n",
      " 11  VRDeck        4197 non-null   float64\n",
      " 12  Name          4183 non-null   object \n",
      "dtypes: float64(6), object(7)\n",
      "memory usage: 434.5+ KB\n"
     ]
    }
   ],
   "source": [
    "train.info()\n",
    "print(\"---\"*70)\n",
    "print(\"---\"*70)\n",
    "test.info()"
   ]
  },
  {
   "cell_type": "code",
   "execution_count": 6,
   "id": "b63d0cc7",
   "metadata": {
    "execution": {
     "iopub.execute_input": "2023-03-04T10:46:16.153869Z",
     "iopub.status.busy": "2023-03-04T10:46:16.153211Z",
     "iopub.status.idle": "2023-03-04T10:46:16.171848Z",
     "shell.execute_reply": "2023-03-04T10:46:16.170655Z"
    },
    "papermill": {
     "duration": 0.033111,
     "end_time": "2023-03-04T10:46:16.174601",
     "exception": false,
     "start_time": "2023-03-04T10:46:16.141490",
     "status": "completed"
    },
    "tags": []
   },
   "outputs": [
    {
     "data": {
      "text/html": [
       "<div>\n",
       "<style scoped>\n",
       "    .dataframe tbody tr th:only-of-type {\n",
       "        vertical-align: middle;\n",
       "    }\n",
       "\n",
       "    .dataframe tbody tr th {\n",
       "        vertical-align: top;\n",
       "    }\n",
       "\n",
       "    .dataframe thead th {\n",
       "        text-align: right;\n",
       "    }\n",
       "</style>\n",
       "<table border=\"1\" class=\"dataframe\">\n",
       "  <thead>\n",
       "    <tr style=\"text-align: right;\">\n",
       "      <th></th>\n",
       "      <th>Age</th>\n",
       "      <th>RoomService</th>\n",
       "      <th>FoodCourt</th>\n",
       "      <th>ShoppingMall</th>\n",
       "      <th>Spa</th>\n",
       "      <th>VRDeck</th>\n",
       "      <th>Transported</th>\n",
       "    </tr>\n",
       "  </thead>\n",
       "  <tbody>\n",
       "    <tr>\n",
       "      <th>Age</th>\n",
       "      <td>1.000000</td>\n",
       "      <td>0.068723</td>\n",
       "      <td>0.130421</td>\n",
       "      <td>0.033133</td>\n",
       "      <td>0.123970</td>\n",
       "      <td>0.101007</td>\n",
       "      <td>-0.075026</td>\n",
       "    </tr>\n",
       "    <tr>\n",
       "      <th>RoomService</th>\n",
       "      <td>0.068723</td>\n",
       "      <td>1.000000</td>\n",
       "      <td>-0.015889</td>\n",
       "      <td>0.054480</td>\n",
       "      <td>0.010080</td>\n",
       "      <td>-0.019581</td>\n",
       "      <td>-0.244611</td>\n",
       "    </tr>\n",
       "    <tr>\n",
       "      <th>FoodCourt</th>\n",
       "      <td>0.130421</td>\n",
       "      <td>-0.015889</td>\n",
       "      <td>1.000000</td>\n",
       "      <td>-0.014228</td>\n",
       "      <td>0.221891</td>\n",
       "      <td>0.227995</td>\n",
       "      <td>0.046566</td>\n",
       "    </tr>\n",
       "    <tr>\n",
       "      <th>ShoppingMall</th>\n",
       "      <td>0.033133</td>\n",
       "      <td>0.054480</td>\n",
       "      <td>-0.014228</td>\n",
       "      <td>1.000000</td>\n",
       "      <td>0.013879</td>\n",
       "      <td>-0.007322</td>\n",
       "      <td>0.010141</td>\n",
       "    </tr>\n",
       "    <tr>\n",
       "      <th>Spa</th>\n",
       "      <td>0.123970</td>\n",
       "      <td>0.010080</td>\n",
       "      <td>0.221891</td>\n",
       "      <td>0.013879</td>\n",
       "      <td>1.000000</td>\n",
       "      <td>0.153821</td>\n",
       "      <td>-0.221131</td>\n",
       "    </tr>\n",
       "    <tr>\n",
       "      <th>VRDeck</th>\n",
       "      <td>0.101007</td>\n",
       "      <td>-0.019581</td>\n",
       "      <td>0.227995</td>\n",
       "      <td>-0.007322</td>\n",
       "      <td>0.153821</td>\n",
       "      <td>1.000000</td>\n",
       "      <td>-0.207075</td>\n",
       "    </tr>\n",
       "    <tr>\n",
       "      <th>Transported</th>\n",
       "      <td>-0.075026</td>\n",
       "      <td>-0.244611</td>\n",
       "      <td>0.046566</td>\n",
       "      <td>0.010141</td>\n",
       "      <td>-0.221131</td>\n",
       "      <td>-0.207075</td>\n",
       "      <td>1.000000</td>\n",
       "    </tr>\n",
       "  </tbody>\n",
       "</table>\n",
       "</div>"
      ],
      "text/plain": [
       "                   Age  RoomService  FoodCourt  ShoppingMall       Spa  \\\n",
       "Age           1.000000     0.068723   0.130421      0.033133  0.123970   \n",
       "RoomService   0.068723     1.000000  -0.015889      0.054480  0.010080   \n",
       "FoodCourt     0.130421    -0.015889   1.000000     -0.014228  0.221891   \n",
       "ShoppingMall  0.033133     0.054480  -0.014228      1.000000  0.013879   \n",
       "Spa           0.123970     0.010080   0.221891      0.013879  1.000000   \n",
       "VRDeck        0.101007    -0.019581   0.227995     -0.007322  0.153821   \n",
       "Transported  -0.075026    -0.244611   0.046566      0.010141 -0.221131   \n",
       "\n",
       "                VRDeck  Transported  \n",
       "Age           0.101007    -0.075026  \n",
       "RoomService  -0.019581    -0.244611  \n",
       "FoodCourt     0.227995     0.046566  \n",
       "ShoppingMall -0.007322     0.010141  \n",
       "Spa           0.153821    -0.221131  \n",
       "VRDeck        1.000000    -0.207075  \n",
       "Transported  -0.207075     1.000000  "
      ]
     },
     "execution_count": 6,
     "metadata": {},
     "output_type": "execute_result"
    }
   ],
   "source": [
    "train.corr()"
   ]
  },
  {
   "cell_type": "code",
   "execution_count": 7,
   "id": "9a18d957",
   "metadata": {
    "execution": {
     "iopub.execute_input": "2023-03-04T10:46:16.197979Z",
     "iopub.status.busy": "2023-03-04T10:46:16.197488Z",
     "iopub.status.idle": "2023-03-04T10:46:17.627433Z",
     "shell.execute_reply": "2023-03-04T10:46:17.626550Z"
    },
    "papermill": {
     "duration": 1.444436,
     "end_time": "2023-03-04T10:46:17.629849",
     "exception": false,
     "start_time": "2023-03-04T10:46:16.185413",
     "status": "completed"
    },
    "tags": []
   },
   "outputs": [
    {
     "name": "stdout",
     "output_type": "stream",
     "text": [
      "                   Age  RoomService  FoodCourt  ShoppingMall       Spa  \\\n",
      "Age           1.000000     0.068723   0.130421      0.033133  0.123970   \n",
      "RoomService   0.068723     1.000000  -0.015889      0.054480  0.010080   \n",
      "FoodCourt     0.130421    -0.015889   1.000000     -0.014228  0.221891   \n",
      "ShoppingMall  0.033133     0.054480  -0.014228      1.000000  0.013879   \n",
      "Spa           0.123970     0.010080   0.221891      0.013879  1.000000   \n",
      "VRDeck        0.101007    -0.019581   0.227995     -0.007322  0.153821   \n",
      "Transported  -0.075026    -0.244611   0.046566      0.010141 -0.221131   \n",
      "\n",
      "                VRDeck  Transported  \n",
      "Age           0.101007    -0.075026  \n",
      "RoomService  -0.019581    -0.244611  \n",
      "FoodCourt     0.227995     0.046566  \n",
      "ShoppingMall -0.007322     0.010141  \n",
      "Spa           0.153821    -0.221131  \n",
      "VRDeck        1.000000    -0.207075  \n",
      "Transported  -0.207075     1.000000  \n"
     ]
    },
    {
     "data": {
      "text/plain": [
       "<AxesSubplot:>"
      ]
     },
     "execution_count": 7,
     "metadata": {},
     "output_type": "execute_result"
    },
    {
     "data": {
      "image/png": "[encoded data removed]",
      "text/plain": [
       "<Figure size 432x288 with 2 Axes>"
      ]
     },
     "metadata": {
      "needs_background": "light"
     },
     "output_type": "display_data"
    }
   ],
   "source": [
    "import seaborn as sns\n",
    "print(train.corr())\n",
    "\n",
    "sns.heatmap(train.corr())"
   ]
  },
  {
   "cell_type": "markdown",
   "id": "3e58f2ff",
   "metadata": {
    "papermill": {
     "duration": 0.011487,
     "end_time": "2023-03-04T10:46:17.653677",
     "exception": false,
     "start_time": "2023-03-04T10:46:17.642190",
     "status": "completed"
    },
    "tags": []
   },
   "source": [
    "# **Data Cleaning**"
   ]
  },
  {
   "cell_type": "code",
   "execution_count": 8,
   "id": "a1c9c1ab",
   "metadata": {
    "execution": {
     "iopub.execute_input": "2023-03-04T10:46:17.677859Z",
     "iopub.status.busy": "2023-03-04T10:46:17.677389Z",
     "iopub.status.idle": "2023-03-04T10:46:17.684891Z",
     "shell.execute_reply": "2023-03-04T10:46:17.683987Z"
    },
    "papermill": {
     "duration": 0.0227,
     "end_time": "2023-03-04T10:46:17.687566",
     "exception": false,
     "start_time": "2023-03-04T10:46:17.664866",
     "status": "completed"
    },
    "tags": []
   },
   "outputs": [],
   "source": [
    "trainx = train.drop([\"RoomService\",\"ShoppingMall\",\"Spa\",\"VRDeck\"],axis = 1)"
   ]
  },
  {
   "cell_type": "code",
   "execution_count": 9,
   "id": "813bfa99",
   "metadata": {
    "execution": {
     "iopub.execute_input": "2023-03-04T10:46:17.713272Z",
     "iopub.status.busy": "2023-03-04T10:46:17.712414Z",
     "iopub.status.idle": "2023-03-04T10:46:17.730552Z",
     "shell.execute_reply": "2023-03-04T10:46:17.729409Z"
    },
    "papermill": {
     "duration": 0.033624,
     "end_time": "2023-03-04T10:46:17.733025",
     "exception": false,
     "start_time": "2023-03-04T10:46:17.699401",
     "status": "completed"
    },
    "tags": []
   },
   "outputs": [
    {
     "data": {
      "text/html": [
       "<div>\n",
       "<style scoped>\n",
       "    .dataframe tbody tr th:only-of-type {\n",
       "        vertical-align: middle;\n",
       "    }\n",
       "\n",
       "    .dataframe tbody tr th {\n",
       "        vertical-align: top;\n",
       "    }\n",
       "\n",
       "    .dataframe thead th {\n",
       "        text-align: right;\n",
       "    }\n",
       "</style>\n",
       "<table border=\"1\" class=\"dataframe\">\n",
       "  <thead>\n",
       "    <tr style=\"text-align: right;\">\n",
       "      <th></th>\n",
       "      <th>PassengerId</th>\n",
       "      <th>HomePlanet</th>\n",
       "      <th>CryoSleep</th>\n",
       "      <th>Cabin</th>\n",
       "      <th>Destination</th>\n",
       "      <th>Age</th>\n",
       "      <th>VIP</th>\n",
       "      <th>FoodCourt</th>\n",
       "      <th>Name</th>\n",
       "      <th>Transported</th>\n",
       "    </tr>\n",
       "  </thead>\n",
       "  <tbody>\n",
       "    <tr>\n",
       "      <th>0</th>\n",
       "      <td>0001_01</td>\n",
       "      <td>Europa</td>\n",
       "      <td>False</td>\n",
       "      <td>B/0/P</td>\n",
       "      <td>TRAPPIST-1e</td>\n",
       "      <td>39.0</td>\n",
       "      <td>False</td>\n",
       "      <td>0.0</td>\n",
       "      <td>Maham Ofracculy</td>\n",
       "      <td>False</td>\n",
       "    </tr>\n",
       "    <tr>\n",
       "      <th>1</th>\n",
       "      <td>0002_01</td>\n",
       "      <td>Earth</td>\n",
       "      <td>False</td>\n",
       "      <td>F/0/S</td>\n",
       "      <td>TRAPPIST-1e</td>\n",
       "      <td>24.0</td>\n",
       "      <td>False</td>\n",
       "      <td>9.0</td>\n",
       "      <td>Juanna Vines</td>\n",
       "      <td>True</td>\n",
       "    </tr>\n",
       "    <tr>\n",
       "      <th>2</th>\n",
       "      <td>0003_01</td>\n",
       "      <td>Europa</td>\n",
       "      <td>False</td>\n",
       "      <td>A/0/S</td>\n",
       "      <td>TRAPPIST-1e</td>\n",
       "      <td>58.0</td>\n",
       "      <td>True</td>\n",
       "      <td>3576.0</td>\n",
       "      <td>Altark Susent</td>\n",
       "      <td>False</td>\n",
       "    </tr>\n",
       "    <tr>\n",
       "      <th>3</th>\n",
       "      <td>0003_02</td>\n",
       "      <td>Europa</td>\n",
       "      <td>False</td>\n",
       "      <td>A/0/S</td>\n",
       "      <td>TRAPPIST-1e</td>\n",
       "      <td>33.0</td>\n",
       "      <td>False</td>\n",
       "      <td>1283.0</td>\n",
       "      <td>Solam Susent</td>\n",
       "      <td>False</td>\n",
       "    </tr>\n",
       "    <tr>\n",
       "      <th>4</th>\n",
       "      <td>0004_01</td>\n",
       "      <td>Earth</td>\n",
       "      <td>False</td>\n",
       "      <td>F/1/S</td>\n",
       "      <td>TRAPPIST-1e</td>\n",
       "      <td>16.0</td>\n",
       "      <td>False</td>\n",
       "      <td>70.0</td>\n",
       "      <td>Willy Santantines</td>\n",
       "      <td>True</td>\n",
       "    </tr>\n",
       "  </tbody>\n",
       "</table>\n",
       "</div>"
      ],
      "text/plain": [
       "  PassengerId HomePlanet CryoSleep  Cabin  Destination   Age    VIP  \\\n",
       "0     0001_01     Europa     False  B/0/P  TRAPPIST-1e  39.0  False   \n",
       "1     0002_01      Earth     False  F/0/S  TRAPPIST-1e  24.0  False   \n",
       "2     0003_01     Europa     False  A/0/S  TRAPPIST-1e  58.0   True   \n",
       "3     0003_02     Europa     False  A/0/S  TRAPPIST-1e  33.0  False   \n",
       "4     0004_01      Earth     False  F/1/S  TRAPPIST-1e  16.0  False   \n",
       "\n",
       "   FoodCourt               Name  Transported  \n",
       "0        0.0    Maham Ofracculy        False  \n",
       "1        9.0       Juanna Vines         True  \n",
       "2     3576.0      Altark Susent        False  \n",
       "3     1283.0       Solam Susent        False  \n",
       "4       70.0  Willy Santantines         True  "
      ]
     },
     "execution_count": 9,
     "metadata": {},
     "output_type": "execute_result"
    }
   ],
   "source": [
    "trainx.head()"
   ]
  },
  {
   "cell_type": "code",
   "execution_count": 10,
   "id": "2f72ab9a",
   "metadata": {
    "execution": {
     "iopub.execute_input": "2023-03-04T10:46:17.758253Z",
     "iopub.status.busy": "2023-03-04T10:46:17.757433Z",
     "iopub.status.idle": "2023-03-04T10:46:17.764871Z",
     "shell.execute_reply": "2023-03-04T10:46:17.763408Z"
    },
    "papermill": {
     "duration": 0.02312,
     "end_time": "2023-03-04T10:46:17.767547",
     "exception": false,
     "start_time": "2023-03-04T10:46:17.744427",
     "status": "completed"
    },
    "tags": []
   },
   "outputs": [],
   "source": [
    "trainx = train.drop([\"Destination\",\"Cabin\",\"HomePlanet\",\"Name\"],axis = 1)"
   ]
  },
  {
   "cell_type": "code",
   "execution_count": 11,
   "id": "0fefff7b",
   "metadata": {
    "execution": {
     "iopub.execute_input": "2023-03-04T10:46:17.792073Z",
     "iopub.status.busy": "2023-03-04T10:46:17.791648Z",
     "iopub.status.idle": "2023-03-04T10:46:17.798753Z",
     "shell.execute_reply": "2023-03-04T10:46:17.797491Z"
    },
    "papermill": {
     "duration": 0.022237,
     "end_time": "2023-03-04T10:46:17.801172",
     "exception": false,
     "start_time": "2023-03-04T10:46:17.778935",
     "status": "completed"
    },
    "tags": []
   },
   "outputs": [],
   "source": [
    "testx = test.drop([\"Destination\",\"Cabin\",\"HomePlanet\",\"Name\" ],axis = 1)"
   ]
  },
  {
   "cell_type": "code",
   "execution_count": 12,
   "id": "f709b81f",
   "metadata": {
    "execution": {
     "iopub.execute_input": "2023-03-04T10:46:17.825806Z",
     "iopub.status.busy": "2023-03-04T10:46:17.825405Z",
     "iopub.status.idle": "2023-03-04T10:46:17.850380Z",
     "shell.execute_reply": "2023-03-04T10:46:17.849588Z"
    },
    "papermill": {
     "duration": 0.040015,
     "end_time": "2023-03-04T10:46:17.852440",
     "exception": false,
     "start_time": "2023-03-04T10:46:17.812425",
     "status": "completed"
    },
    "tags": []
   },
   "outputs": [
    {
     "data": {
      "text/html": [
       "<div>\n",
       "<style scoped>\n",
       "    .dataframe tbody tr th:only-of-type {\n",
       "        vertical-align: middle;\n",
       "    }\n",
       "\n",
       "    .dataframe tbody tr th {\n",
       "        vertical-align: top;\n",
       "    }\n",
       "\n",
       "    .dataframe thead th {\n",
       "        text-align: right;\n",
       "    }\n",
       "</style>\n",
       "<table border=\"1\" class=\"dataframe\">\n",
       "  <thead>\n",
       "    <tr style=\"text-align: right;\">\n",
       "      <th></th>\n",
       "      <th>PassengerId</th>\n",
       "      <th>CryoSleep</th>\n",
       "      <th>Age</th>\n",
       "      <th>VIP</th>\n",
       "      <th>RoomService</th>\n",
       "      <th>FoodCourt</th>\n",
       "      <th>ShoppingMall</th>\n",
       "      <th>Spa</th>\n",
       "      <th>VRDeck</th>\n",
       "      <th>Transported</th>\n",
       "    </tr>\n",
       "  </thead>\n",
       "  <tbody>\n",
       "    <tr>\n",
       "      <th>0</th>\n",
       "      <td>0001_01</td>\n",
       "      <td>False</td>\n",
       "      <td>39.0</td>\n",
       "      <td>False</td>\n",
       "      <td>0.0</td>\n",
       "      <td>0.0</td>\n",
       "      <td>0.0</td>\n",
       "      <td>0.0</td>\n",
       "      <td>0.0</td>\n",
       "      <td>False</td>\n",
       "    </tr>\n",
       "    <tr>\n",
       "      <th>1</th>\n",
       "      <td>0002_01</td>\n",
       "      <td>False</td>\n",
       "      <td>24.0</td>\n",
       "      <td>False</td>\n",
       "      <td>109.0</td>\n",
       "      <td>9.0</td>\n",
       "      <td>25.0</td>\n",
       "      <td>549.0</td>\n",
       "      <td>44.0</td>\n",
       "      <td>True</td>\n",
       "    </tr>\n",
       "    <tr>\n",
       "      <th>2</th>\n",
       "      <td>0003_01</td>\n",
       "      <td>False</td>\n",
       "      <td>58.0</td>\n",
       "      <td>True</td>\n",
       "      <td>43.0</td>\n",
       "      <td>3576.0</td>\n",
       "      <td>0.0</td>\n",
       "      <td>6715.0</td>\n",
       "      <td>49.0</td>\n",
       "      <td>False</td>\n",
       "    </tr>\n",
       "    <tr>\n",
       "      <th>3</th>\n",
       "      <td>0003_02</td>\n",
       "      <td>False</td>\n",
       "      <td>33.0</td>\n",
       "      <td>False</td>\n",
       "      <td>0.0</td>\n",
       "      <td>1283.0</td>\n",
       "      <td>371.0</td>\n",
       "      <td>3329.0</td>\n",
       "      <td>193.0</td>\n",
       "      <td>False</td>\n",
       "    </tr>\n",
       "    <tr>\n",
       "      <th>4</th>\n",
       "      <td>0004_01</td>\n",
       "      <td>False</td>\n",
       "      <td>16.0</td>\n",
       "      <td>False</td>\n",
       "      <td>303.0</td>\n",
       "      <td>70.0</td>\n",
       "      <td>151.0</td>\n",
       "      <td>565.0</td>\n",
       "      <td>2.0</td>\n",
       "      <td>True</td>\n",
       "    </tr>\n",
       "    <tr>\n",
       "      <th>...</th>\n",
       "      <td>...</td>\n",
       "      <td>...</td>\n",
       "      <td>...</td>\n",
       "      <td>...</td>\n",
       "      <td>...</td>\n",
       "      <td>...</td>\n",
       "      <td>...</td>\n",
       "      <td>...</td>\n",
       "      <td>...</td>\n",
       "      <td>...</td>\n",
       "    </tr>\n",
       "    <tr>\n",
       "      <th>8688</th>\n",
       "      <td>9276_01</td>\n",
       "      <td>False</td>\n",
       "      <td>41.0</td>\n",
       "      <td>True</td>\n",
       "      <td>0.0</td>\n",
       "      <td>6819.0</td>\n",
       "      <td>0.0</td>\n",
       "      <td>1643.0</td>\n",
       "      <td>74.0</td>\n",
       "      <td>False</td>\n",
       "    </tr>\n",
       "    <tr>\n",
       "      <th>8689</th>\n",
       "      <td>9278_01</td>\n",
       "      <td>True</td>\n",
       "      <td>18.0</td>\n",
       "      <td>False</td>\n",
       "      <td>0.0</td>\n",
       "      <td>0.0</td>\n",
       "      <td>0.0</td>\n",
       "      <td>0.0</td>\n",
       "      <td>0.0</td>\n",
       "      <td>False</td>\n",
       "    </tr>\n",
       "    <tr>\n",
       "      <th>8690</th>\n",
       "      <td>9279_01</td>\n",
       "      <td>False</td>\n",
       "      <td>26.0</td>\n",
       "      <td>False</td>\n",
       "      <td>0.0</td>\n",
       "      <td>0.0</td>\n",
       "      <td>1872.0</td>\n",
       "      <td>1.0</td>\n",
       "      <td>0.0</td>\n",
       "      <td>True</td>\n",
       "    </tr>\n",
       "    <tr>\n",
       "      <th>8691</th>\n",
       "      <td>9280_01</td>\n",
       "      <td>False</td>\n",
       "      <td>32.0</td>\n",
       "      <td>False</td>\n",
       "      <td>0.0</td>\n",
       "      <td>1049.0</td>\n",
       "      <td>0.0</td>\n",
       "      <td>353.0</td>\n",
       "      <td>3235.0</td>\n",
       "      <td>False</td>\n",
       "    </tr>\n",
       "    <tr>\n",
       "      <th>8692</th>\n",
       "      <td>9280_02</td>\n",
       "      <td>False</td>\n",
       "      <td>44.0</td>\n",
       "      <td>False</td>\n",
       "      <td>126.0</td>\n",
       "      <td>4688.0</td>\n",
       "      <td>0.0</td>\n",
       "      <td>0.0</td>\n",
       "      <td>12.0</td>\n",
       "      <td>True</td>\n",
       "    </tr>\n",
       "  </tbody>\n",
       "</table>\n",
       "<p>8693 rows × 10 columns</p>\n",
       "</div>"
      ],
      "text/plain": [
       "     PassengerId CryoSleep   Age    VIP  RoomService  FoodCourt  ShoppingMall  \\\n",
       "0        0001_01     False  39.0  False          0.0        0.0           0.0   \n",
       "1        0002_01     False  24.0  False        109.0        9.0          25.0   \n",
       "2        0003_01     False  58.0   True         43.0     3576.0           0.0   \n",
       "3        0003_02     False  33.0  False          0.0     1283.0         371.0   \n",
       "4        0004_01     False  16.0  False        303.0       70.0         151.0   \n",
       "...          ...       ...   ...    ...          ...        ...           ...   \n",
       "8688     9276_01     False  41.0   True          0.0     6819.0           0.0   \n",
       "8689     9278_01      True  18.0  False          0.0        0.0           0.0   \n",
       "8690     9279_01     False  26.0  False          0.0        0.0        1872.0   \n",
       "8691     9280_01     False  32.0  False          0.0     1049.0           0.0   \n",
       "8692     9280_02     False  44.0  False        126.0     4688.0           0.0   \n",
       "\n",
       "         Spa  VRDeck  Transported  \n",
       "0        0.0     0.0        False  \n",
       "1      549.0    44.0         True  \n",
       "2     6715.0    49.0        False  \n",
       "3     3329.0   193.0        False  \n",
       "4      565.0     2.0         True  \n",
       "...      ...     ...          ...  \n",
       "8688  1643.0    74.0        False  \n",
       "8689     0.0     0.0        False  \n",
       "8690     1.0     0.0         True  \n",
       "8691   353.0  3235.0        False  \n",
       "8692     0.0    12.0         True  \n",
       "\n",
       "[8693 rows x 10 columns]"
      ]
     },
     "execution_count": 12,
     "metadata": {},
     "output_type": "execute_result"
    }
   ],
   "source": [
    "trainx"
   ]
  },
  {
   "cell_type": "code",
   "execution_count": 13,
   "id": "660d234e",
   "metadata": {
    "execution": {
     "iopub.execute_input": "2023-03-04T10:46:17.878029Z",
     "iopub.status.busy": "2023-03-04T10:46:17.877281Z",
     "iopub.status.idle": "2023-03-04T10:46:17.892053Z",
     "shell.execute_reply": "2023-03-04T10:46:17.890316Z"
    },
    "papermill": {
     "duration": 0.03035,
     "end_time": "2023-03-04T10:46:17.894633",
     "exception": false,
     "start_time": "2023-03-04T10:46:17.864283",
     "status": "completed"
    },
    "tags": []
   },
   "outputs": [
    {
     "name": "stdout",
     "output_type": "stream",
     "text": [
      "<class 'pandas.core.frame.DataFrame'>\n",
      "RangeIndex: 8693 entries, 0 to 8692\n",
      "Data columns (total 10 columns):\n",
      " #   Column        Non-Null Count  Dtype  \n",
      "---  ------        --------------  -----  \n",
      " 0   PassengerId   8693 non-null   object \n",
      " 1   CryoSleep     8476 non-null   object \n",
      " 2   Age           8514 non-null   float64\n",
      " 3   VIP           8490 non-null   object \n",
      " 4   RoomService   8512 non-null   float64\n",
      " 5   FoodCourt     8510 non-null   float64\n",
      " 6   ShoppingMall  8485 non-null   float64\n",
      " 7   Spa           8510 non-null   float64\n",
      " 8   VRDeck        8505 non-null   float64\n",
      " 9   Transported   8693 non-null   bool   \n",
      "dtypes: bool(1), float64(6), object(3)\n",
      "memory usage: 619.8+ KB\n"
     ]
    }
   ],
   "source": [
    "trainx.info()"
   ]
  },
  {
   "cell_type": "code",
   "execution_count": 14,
   "id": "c34a9ca4",
   "metadata": {
    "execution": {
     "iopub.execute_input": "2023-03-04T10:46:17.920253Z",
     "iopub.status.busy": "2023-03-04T10:46:17.919826Z",
     "iopub.status.idle": "2023-03-04T10:46:17.939597Z",
     "shell.execute_reply": "2023-03-04T10:46:17.938386Z"
    },
    "papermill": {
     "duration": 0.035731,
     "end_time": "2023-03-04T10:46:17.942117",
     "exception": false,
     "start_time": "2023-03-04T10:46:17.906386",
     "status": "completed"
    },
    "tags": []
   },
   "outputs": [
    {
     "data": {
      "text/html": [
       "<div>\n",
       "<style scoped>\n",
       "    .dataframe tbody tr th:only-of-type {\n",
       "        vertical-align: middle;\n",
       "    }\n",
       "\n",
       "    .dataframe tbody tr th {\n",
       "        vertical-align: top;\n",
       "    }\n",
       "\n",
       "    .dataframe thead th {\n",
       "        text-align: right;\n",
       "    }\n",
       "</style>\n",
       "<table border=\"1\" class=\"dataframe\">\n",
       "  <thead>\n",
       "    <tr style=\"text-align: right;\">\n",
       "      <th></th>\n",
       "      <th>PassengerId</th>\n",
       "      <th>CryoSleep</th>\n",
       "      <th>Age</th>\n",
       "      <th>VIP</th>\n",
       "      <th>RoomService</th>\n",
       "      <th>FoodCourt</th>\n",
       "      <th>ShoppingMall</th>\n",
       "      <th>Spa</th>\n",
       "      <th>VRDeck</th>\n",
       "      <th>Transported</th>\n",
       "    </tr>\n",
       "  </thead>\n",
       "  <tbody>\n",
       "    <tr>\n",
       "      <th>0</th>\n",
       "      <td>0001_01</td>\n",
       "      <td>False</td>\n",
       "      <td>39.0</td>\n",
       "      <td>False</td>\n",
       "      <td>0.0</td>\n",
       "      <td>0.0</td>\n",
       "      <td>0.0</td>\n",
       "      <td>0.0</td>\n",
       "      <td>0.0</td>\n",
       "      <td>0</td>\n",
       "    </tr>\n",
       "    <tr>\n",
       "      <th>1</th>\n",
       "      <td>0002_01</td>\n",
       "      <td>False</td>\n",
       "      <td>24.0</td>\n",
       "      <td>False</td>\n",
       "      <td>109.0</td>\n",
       "      <td>9.0</td>\n",
       "      <td>25.0</td>\n",
       "      <td>549.0</td>\n",
       "      <td>44.0</td>\n",
       "      <td>1</td>\n",
       "    </tr>\n",
       "    <tr>\n",
       "      <th>2</th>\n",
       "      <td>0003_01</td>\n",
       "      <td>False</td>\n",
       "      <td>58.0</td>\n",
       "      <td>True</td>\n",
       "      <td>43.0</td>\n",
       "      <td>3576.0</td>\n",
       "      <td>0.0</td>\n",
       "      <td>6715.0</td>\n",
       "      <td>49.0</td>\n",
       "      <td>0</td>\n",
       "    </tr>\n",
       "    <tr>\n",
       "      <th>3</th>\n",
       "      <td>0003_02</td>\n",
       "      <td>False</td>\n",
       "      <td>33.0</td>\n",
       "      <td>False</td>\n",
       "      <td>0.0</td>\n",
       "      <td>1283.0</td>\n",
       "      <td>371.0</td>\n",
       "      <td>3329.0</td>\n",
       "      <td>193.0</td>\n",
       "      <td>0</td>\n",
       "    </tr>\n",
       "    <tr>\n",
       "      <th>4</th>\n",
       "      <td>0004_01</td>\n",
       "      <td>False</td>\n",
       "      <td>16.0</td>\n",
       "      <td>False</td>\n",
       "      <td>303.0</td>\n",
       "      <td>70.0</td>\n",
       "      <td>151.0</td>\n",
       "      <td>565.0</td>\n",
       "      <td>2.0</td>\n",
       "      <td>1</td>\n",
       "    </tr>\n",
       "  </tbody>\n",
       "</table>\n",
       "</div>"
      ],
      "text/plain": [
       "  PassengerId CryoSleep   Age    VIP  RoomService  FoodCourt  ShoppingMall  \\\n",
       "0     0001_01     False  39.0  False          0.0        0.0           0.0   \n",
       "1     0002_01     False  24.0  False        109.0        9.0          25.0   \n",
       "2     0003_01     False  58.0   True         43.0     3576.0           0.0   \n",
       "3     0003_02     False  33.0  False          0.0     1283.0         371.0   \n",
       "4     0004_01     False  16.0  False        303.0       70.0         151.0   \n",
       "\n",
       "      Spa  VRDeck  Transported  \n",
       "0     0.0     0.0            0  \n",
       "1   549.0    44.0            1  \n",
       "2  6715.0    49.0            0  \n",
       "3  3329.0   193.0            0  \n",
       "4   565.0     2.0            1  "
      ]
     },
     "execution_count": 14,
     "metadata": {},
     "output_type": "execute_result"
    }
   ],
   "source": [
    "\n",
    "trainx['Transported'] = trainx['Transported'].astype('int')\n",
    "trainx.head()"
   ]
  },
  {
   "cell_type": "markdown",
   "id": "d7959b46",
   "metadata": {
    "papermill": {
     "duration": 0.012365,
     "end_time": "2023-03-04T10:46:17.966826",
     "exception": false,
     "start_time": "2023-03-04T10:46:17.954461",
     "status": "completed"
    },
    "tags": []
   },
   "source": [
    "# Fill the null values and convert them to numeric"
   ]
  },
  {
   "cell_type": "code",
   "execution_count": 15,
   "id": "594ce678",
   "metadata": {
    "execution": {
     "iopub.execute_input": "2023-03-04T10:46:17.993176Z",
     "iopub.status.busy": "2023-03-04T10:46:17.992416Z",
     "iopub.status.idle": "2023-03-04T10:46:18.164626Z",
     "shell.execute_reply": "2023-03-04T10:46:18.163032Z"
    },
    "papermill": {
     "duration": 0.188352,
     "end_time": "2023-03-04T10:46:18.167332",
     "exception": false,
     "start_time": "2023-03-04T10:46:17.978980",
     "status": "completed"
    },
    "tags": []
   },
   "outputs": [
    {
     "name": "stdout",
     "output_type": "stream",
     "text": [
      "[False True nan]\n",
      "[False True nan]\n"
     ]
    },
    {
     "data": {
      "text/html": [
       "<div>\n",
       "<style scoped>\n",
       "    .dataframe tbody tr th:only-of-type {\n",
       "        vertical-align: middle;\n",
       "    }\n",
       "\n",
       "    .dataframe tbody tr th {\n",
       "        vertical-align: top;\n",
       "    }\n",
       "\n",
       "    .dataframe thead th {\n",
       "        text-align: right;\n",
       "    }\n",
       "</style>\n",
       "<table border=\"1\" class=\"dataframe\">\n",
       "  <thead>\n",
       "    <tr style=\"text-align: right;\">\n",
       "      <th></th>\n",
       "      <th>PassengerId</th>\n",
       "      <th>CryoSleep</th>\n",
       "      <th>Age</th>\n",
       "      <th>VIP</th>\n",
       "      <th>RoomService</th>\n",
       "      <th>FoodCourt</th>\n",
       "      <th>ShoppingMall</th>\n",
       "      <th>Spa</th>\n",
       "      <th>VRDeck</th>\n",
       "      <th>Transported</th>\n",
       "    </tr>\n",
       "  </thead>\n",
       "  <tbody>\n",
       "    <tr>\n",
       "      <th>0</th>\n",
       "      <td>0001_01</td>\n",
       "      <td>0</td>\n",
       "      <td>39.0</td>\n",
       "      <td>0</td>\n",
       "      <td>0.0</td>\n",
       "      <td>0.0</td>\n",
       "      <td>0.0</td>\n",
       "      <td>0.0</td>\n",
       "      <td>0.0</td>\n",
       "      <td>0</td>\n",
       "    </tr>\n",
       "    <tr>\n",
       "      <th>1</th>\n",
       "      <td>0002_01</td>\n",
       "      <td>0</td>\n",
       "      <td>24.0</td>\n",
       "      <td>0</td>\n",
       "      <td>109.0</td>\n",
       "      <td>9.0</td>\n",
       "      <td>25.0</td>\n",
       "      <td>549.0</td>\n",
       "      <td>44.0</td>\n",
       "      <td>1</td>\n",
       "    </tr>\n",
       "    <tr>\n",
       "      <th>2</th>\n",
       "      <td>0003_01</td>\n",
       "      <td>0</td>\n",
       "      <td>58.0</td>\n",
       "      <td>1</td>\n",
       "      <td>43.0</td>\n",
       "      <td>3576.0</td>\n",
       "      <td>0.0</td>\n",
       "      <td>6715.0</td>\n",
       "      <td>49.0</td>\n",
       "      <td>0</td>\n",
       "    </tr>\n",
       "    <tr>\n",
       "      <th>3</th>\n",
       "      <td>0003_02</td>\n",
       "      <td>0</td>\n",
       "      <td>33.0</td>\n",
       "      <td>0</td>\n",
       "      <td>0.0</td>\n",
       "      <td>1283.0</td>\n",
       "      <td>371.0</td>\n",
       "      <td>3329.0</td>\n",
       "      <td>193.0</td>\n",
       "      <td>0</td>\n",
       "    </tr>\n",
       "    <tr>\n",
       "      <th>4</th>\n",
       "      <td>0004_01</td>\n",
       "      <td>0</td>\n",
       "      <td>16.0</td>\n",
       "      <td>0</td>\n",
       "      <td>303.0</td>\n",
       "      <td>70.0</td>\n",
       "      <td>151.0</td>\n",
       "      <td>565.0</td>\n",
       "      <td>2.0</td>\n",
       "      <td>1</td>\n",
       "    </tr>\n",
       "  </tbody>\n",
       "</table>\n",
       "</div>"
      ],
      "text/plain": [
       "  PassengerId  CryoSleep   Age  VIP  RoomService  FoodCourt  ShoppingMall  \\\n",
       "0     0001_01          0  39.0    0          0.0        0.0           0.0   \n",
       "1     0002_01          0  24.0    0        109.0        9.0          25.0   \n",
       "2     0003_01          0  58.0    1         43.0     3576.0           0.0   \n",
       "3     0003_02          0  33.0    0          0.0     1283.0         371.0   \n",
       "4     0004_01          0  16.0    0        303.0       70.0         151.0   \n",
       "\n",
       "      Spa  VRDeck  Transported  \n",
       "0     0.0     0.0            0  \n",
       "1   549.0    44.0            1  \n",
       "2  6715.0    49.0            0  \n",
       "3  3329.0   193.0            0  \n",
       "4   565.0     2.0            1  "
      ]
     },
     "execution_count": 15,
     "metadata": {},
     "output_type": "execute_result"
    }
   ],
   "source": [
    "from sklearn import preprocessing \n",
    "le = preprocessing.LabelEncoder()\n",
    "cols = ['CryoSleep', 'VIP']\n",
    "\n",
    "for col in cols: \n",
    "    trainx[col] = le.fit_transform(trainx[col])\n",
    "    testx[col] = le.transform(test[col])\n",
    "    print(le.classes_)\n",
    "trainx.head()"
   ]
  },
  {
   "cell_type": "code",
   "execution_count": 16,
   "id": "03de3113",
   "metadata": {
    "execution": {
     "iopub.execute_input": "2023-03-04T10:46:18.194351Z",
     "iopub.status.busy": "2023-03-04T10:46:18.193934Z",
     "iopub.status.idle": "2023-03-04T10:46:18.205212Z",
     "shell.execute_reply": "2023-03-04T10:46:18.203865Z"
    },
    "papermill": {
     "duration": 0.028037,
     "end_time": "2023-03-04T10:46:18.207861",
     "exception": false,
     "start_time": "2023-03-04T10:46:18.179824",
     "status": "completed"
    },
    "tags": []
   },
   "outputs": [
    {
     "data": {
      "text/plain": [
       "ShoppingMall    208\n",
       "VRDeck          188\n",
       "FoodCourt       183\n",
       "Spa             183\n",
       "RoomService     181\n",
       "Age             179\n",
       "PassengerId       0\n",
       "CryoSleep         0\n",
       "VIP               0\n",
       "Transported       0\n",
       "dtype: int64"
      ]
     },
     "execution_count": 16,
     "metadata": {},
     "output_type": "execute_result"
    }
   ],
   "source": [
    "trainx.isnull().sum().sort_values(ascending = False)"
   ]
  },
  {
   "cell_type": "code",
   "execution_count": 17,
   "id": "5b26d267",
   "metadata": {
    "execution": {
     "iopub.execute_input": "2023-03-04T10:46:18.235122Z",
     "iopub.status.busy": "2023-03-04T10:46:18.234274Z",
     "iopub.status.idle": "2023-03-04T10:46:18.258339Z",
     "shell.execute_reply": "2023-03-04T10:46:18.257102Z"
    },
    "papermill": {
     "duration": 0.040617,
     "end_time": "2023-03-04T10:46:18.261154",
     "exception": false,
     "start_time": "2023-03-04T10:46:18.220537",
     "status": "completed"
    },
    "tags": []
   },
   "outputs": [],
   "source": [
    "trainx = trainx.fillna(trainx .mean())"
   ]
  },
  {
   "cell_type": "code",
   "execution_count": 18,
   "id": "d0dee8eb",
   "metadata": {
    "execution": {
     "iopub.execute_input": "2023-03-04T10:46:18.288289Z",
     "iopub.status.busy": "2023-03-04T10:46:18.287854Z",
     "iopub.status.idle": "2023-03-04T10:46:18.310614Z",
     "shell.execute_reply": "2023-03-04T10:46:18.309345Z"
    },
    "papermill": {
     "duration": 0.039572,
     "end_time": "2023-03-04T10:46:18.313472",
     "exception": false,
     "start_time": "2023-03-04T10:46:18.273900",
     "status": "completed"
    },
    "tags": []
   },
   "outputs": [],
   "source": [
    "testx = testx.fillna(trainx .mean())"
   ]
  },
  {
   "cell_type": "code",
   "execution_count": 19,
   "id": "773ea080",
   "metadata": {
    "execution": {
     "iopub.execute_input": "2023-03-04T10:46:18.340263Z",
     "iopub.status.busy": "2023-03-04T10:46:18.339633Z",
     "iopub.status.idle": "2023-03-04T10:46:18.349998Z",
     "shell.execute_reply": "2023-03-04T10:46:18.349167Z"
    },
    "papermill": {
     "duration": 0.026571,
     "end_time": "2023-03-04T10:46:18.352434",
     "exception": false,
     "start_time": "2023-03-04T10:46:18.325863",
     "status": "completed"
    },
    "tags": []
   },
   "outputs": [
    {
     "data": {
      "text/plain": [
       "PassengerId     0\n",
       "CryoSleep       0\n",
       "Age             0\n",
       "VIP             0\n",
       "RoomService     0\n",
       "FoodCourt       0\n",
       "ShoppingMall    0\n",
       "Spa             0\n",
       "VRDeck          0\n",
       "Transported     0\n",
       "dtype: int64"
      ]
     },
     "execution_count": 19,
     "metadata": {},
     "output_type": "execute_result"
    }
   ],
   "source": [
    "trainx.isnull().sum().sort_values(ascending = False)"
   ]
  },
  {
   "cell_type": "code",
   "execution_count": 20,
   "id": "97c64a94",
   "metadata": {
    "execution": {
     "iopub.execute_input": "2023-03-04T10:46:18.379619Z",
     "iopub.status.busy": "2023-03-04T10:46:18.378455Z",
     "iopub.status.idle": "2023-03-04T10:46:18.389101Z",
     "shell.execute_reply": "2023-03-04T10:46:18.388191Z"
    },
    "papermill": {
     "duration": 0.026372,
     "end_time": "2023-03-04T10:46:18.391348",
     "exception": false,
     "start_time": "2023-03-04T10:46:18.364976",
     "status": "completed"
    },
    "tags": []
   },
   "outputs": [
    {
     "data": {
      "text/plain": [
       "PassengerId     0\n",
       "CryoSleep       0\n",
       "Age             0\n",
       "VIP             0\n",
       "RoomService     0\n",
       "FoodCourt       0\n",
       "ShoppingMall    0\n",
       "Spa             0\n",
       "VRDeck          0\n",
       "dtype: int64"
      ]
     },
     "execution_count": 20,
     "metadata": {},
     "output_type": "execute_result"
    }
   ],
   "source": [
    "testx.isnull().sum().sort_values(ascending=False)"
   ]
  },
  {
   "cell_type": "code",
   "execution_count": 21,
   "id": "5e0a125c",
   "metadata": {
    "execution": {
     "iopub.execute_input": "2023-03-04T10:46:18.418289Z",
     "iopub.status.busy": "2023-03-04T10:46:18.417844Z",
     "iopub.status.idle": "2023-03-04T10:46:18.425025Z",
     "shell.execute_reply": "2023-03-04T10:46:18.423896Z"
    },
    "papermill": {
     "duration": 0.023209,
     "end_time": "2023-03-04T10:46:18.427232",
     "exception": false,
     "start_time": "2023-03-04T10:46:18.404023",
     "status": "completed"
    },
    "tags": []
   },
   "outputs": [],
   "source": [
    "y = trainx[\"Transported\"]\n",
    "x = trainx.drop([\"Transported\"], axis =1)\n",
    "\n"
   ]
  },
  {
   "cell_type": "markdown",
   "id": "04925473",
   "metadata": {
    "papermill": {
     "duration": 0.012355,
     "end_time": "2023-03-04T10:46:18.452348",
     "exception": false,
     "start_time": "2023-03-04T10:46:18.439993",
     "status": "completed"
    },
    "tags": []
   },
   "source": [
    "# Train Model and Predict"
   ]
  },
  {
   "cell_type": "code",
   "execution_count": 22,
   "id": "4ca93304",
   "metadata": {
    "_kg_hide-input": false,
    "execution": {
     "iopub.execute_input": "2023-03-04T10:46:18.480099Z",
     "iopub.status.busy": "2023-03-04T10:46:18.479623Z",
     "iopub.status.idle": "2023-03-04T10:46:18.621120Z",
     "shell.execute_reply": "2023-03-04T10:46:18.619810Z"
    },
    "papermill": {
     "duration": 0.15831,
     "end_time": "2023-03-04T10:46:18.623803",
     "exception": false,
     "start_time": "2023-03-04T10:46:18.465493",
     "status": "completed"
    },
    "tags": []
   },
   "outputs": [],
   "source": [
    "from sklearn.linear_model import LogisticRegression\n",
    "from sklearn.model_selection import train_test_split\n",
    "\n",
    "x_train, x_test, y_train, y_test = train_test_split(x,y, test_size = 0.15 , random_state= 4)"
   ]
  },
  {
   "cell_type": "code",
   "execution_count": 23,
   "id": "ab9dd4ef",
   "metadata": {
    "execution": {
     "iopub.execute_input": "2023-03-04T10:46:18.651612Z",
     "iopub.status.busy": "2023-03-04T10:46:18.650529Z",
     "iopub.status.idle": "2023-03-04T10:46:18.748775Z",
     "shell.execute_reply": "2023-03-04T10:46:18.747461Z"
    },
    "papermill": {
     "duration": 0.115943,
     "end_time": "2023-03-04T10:46:18.752403",
     "exception": false,
     "start_time": "2023-03-04T10:46:18.636460",
     "status": "completed"
    },
    "tags": []
   },
   "outputs": [
    {
     "data": {
      "text/plain": [
       "LogisticRegression()"
      ]
     },
     "execution_count": 23,
     "metadata": {},
     "output_type": "execute_result"
    }
   ],
   "source": [
    "Regressionmodel = LogisticRegression()\n",
    "Regressionmodel.fit(x_train,y_train)"
   ]
  },
  {
   "cell_type": "code",
   "execution_count": 24,
   "id": "110afe22",
   "metadata": {
    "execution": {
     "iopub.execute_input": "2023-03-04T10:46:18.796294Z",
     "iopub.status.busy": "2023-03-04T10:46:18.795700Z",
     "iopub.status.idle": "2023-03-04T10:46:18.815650Z",
     "shell.execute_reply": "2023-03-04T10:46:18.814347Z"
    },
    "papermill": {
     "duration": 0.045937,
     "end_time": "2023-03-04T10:46:18.819453",
     "exception": false,
     "start_time": "2023-03-04T10:46:18.773516",
     "status": "completed"
    },
    "tags": []
   },
   "outputs": [
    {
     "data": {
      "text/plain": [
       "array([0, 1, 0, ..., 1, 0, 0])"
      ]
     },
     "execution_count": 24,
     "metadata": {},
     "output_type": "execute_result"
    }
   ],
   "source": [
    "y_ = Regressionmodel.predict(x_test)\n",
    "y_"
   ]
  },
  {
   "cell_type": "code",
   "execution_count": 25,
   "id": "e89c6b3f",
   "metadata": {
    "execution": {
     "iopub.execute_input": "2023-03-04T10:46:18.864629Z",
     "iopub.status.busy": "2023-03-04T10:46:18.864068Z",
     "iopub.status.idle": "2023-03-04T10:46:18.882044Z",
     "shell.execute_reply": "2023-03-04T10:46:18.880810Z"
    },
    "papermill": {
     "duration": 0.044389,
     "end_time": "2023-03-04T10:46:18.885909",
     "exception": false,
     "start_time": "2023-03-04T10:46:18.841520",
     "status": "completed"
    },
    "tags": []
   },
   "outputs": [
    {
     "data": {
      "text/plain": [
       "0.7806748466257669"
      ]
     },
     "execution_count": 25,
     "metadata": {},
     "output_type": "execute_result"
    }
   ],
   "source": [
    "Regressionmodel.score(x_test,y_test)"
   ]
  },
  {
   "cell_type": "code",
   "execution_count": 26,
   "id": "5003136f",
   "metadata": {
    "execution": {
     "iopub.execute_input": "2023-03-04T10:46:18.930909Z",
     "iopub.status.busy": "2023-03-04T10:46:18.930145Z",
     "iopub.status.idle": "2023-03-04T10:46:18.956348Z",
     "shell.execute_reply": "2023-03-04T10:46:18.955022Z"
    },
    "papermill": {
     "duration": 0.052405,
     "end_time": "2023-03-04T10:46:18.960191",
     "exception": false,
     "start_time": "2023-03-04T10:46:18.907786",
     "status": "completed"
    },
    "tags": []
   },
   "outputs": [
    {
     "data": {
      "text/plain": [
       "array([1, 0, 1, ..., 1, 1, 1])"
      ]
     },
     "execution_count": 26,
     "metadata": {},
     "output_type": "execute_result"
    }
   ],
   "source": [
    "yx = Regressionmodel.predict(testx)\n",
    "yx"
   ]
  },
  {
   "cell_type": "code",
   "execution_count": 27,
   "id": "9397138b",
   "metadata": {
    "execution": {
     "iopub.execute_input": "2023-03-04T10:46:19.006206Z",
     "iopub.status.busy": "2023-03-04T10:46:19.005397Z",
     "iopub.status.idle": "2023-03-04T10:46:19.013862Z",
     "shell.execute_reply": "2023-03-04T10:46:19.012571Z"
    },
    "papermill": {
     "duration": 0.037779,
     "end_time": "2023-03-04T10:46:19.020314",
     "exception": false,
     "start_time": "2023-03-04T10:46:18.982535",
     "status": "completed"
    },
    "tags": []
   },
   "outputs": [],
   "source": [
    "yyyy = [bool(item) for item in yx]"
   ]
  },
  {
   "cell_type": "markdown",
   "id": "e7d180bf",
   "metadata": {
    "papermill": {
     "duration": 0.021055,
     "end_time": "2023-03-04T10:46:19.062599",
     "exception": false,
     "start_time": "2023-03-04T10:46:19.041544",
     "status": "completed"
    },
    "tags": []
   },
   "source": [
    "# Evaluation"
   ]
  },
  {
   "cell_type": "code",
   "execution_count": 28,
   "id": "bbc3f739",
   "metadata": {
    "execution": {
     "iopub.execute_input": "2023-03-04T10:46:19.092489Z",
     "iopub.status.busy": "2023-03-04T10:46:19.092084Z",
     "iopub.status.idle": "2023-03-04T10:46:19.107549Z",
     "shell.execute_reply": "2023-03-04T10:46:19.106183Z"
    },
    "papermill": {
     "duration": 0.034119,
     "end_time": "2023-03-04T10:46:19.111418",
     "exception": false,
     "start_time": "2023-03-04T10:46:19.077299",
     "status": "completed"
    },
    "tags": []
   },
   "outputs": [
    {
     "data": {
      "text/plain": [
       "array([[0.72593131, 0.27406869],\n",
       "       [0.35511795, 0.64488205],\n",
       "       [0.7470327 , 0.2529673 ],\n",
       "       ...,\n",
       "       [0.32074373, 0.67925627],\n",
       "       [0.73241637, 0.26758363],\n",
       "       [0.93461075, 0.06538925]])"
      ]
     },
     "execution_count": 28,
     "metadata": {},
     "output_type": "execute_result"
    }
   ],
   "source": [
    "yhat_prob = Regressionmodel.predict_proba(x_test)\n",
    "yhat_prob"
   ]
  },
  {
   "cell_type": "markdown",
   "id": "c6b66b68",
   "metadata": {
    "papermill": {
     "duration": 0.02165,
     "end_time": "2023-03-04T10:46:19.154539",
     "exception": false,
     "start_time": "2023-03-04T10:46:19.132889",
     "status": "completed"
    },
    "tags": []
   },
   "source": [
    "# Log loss"
   ]
  },
  {
   "cell_type": "code",
   "execution_count": 29,
   "id": "bf2a5d42",
   "metadata": {
    "execution": {
     "iopub.execute_input": "2023-03-04T10:46:19.200366Z",
     "iopub.status.busy": "2023-03-04T10:46:19.199521Z",
     "iopub.status.idle": "2023-03-04T10:46:19.215225Z",
     "shell.execute_reply": "2023-03-04T10:46:19.213859Z"
    },
    "papermill": {
     "duration": 0.044403,
     "end_time": "2023-03-04T10:46:19.220519",
     "exception": false,
     "start_time": "2023-03-04T10:46:19.176116",
     "status": "completed"
    },
    "tags": []
   },
   "outputs": [
    {
     "data": {
      "text/plain": [
       "0.5340228048800792"
      ]
     },
     "execution_count": 29,
     "metadata": {},
     "output_type": "execute_result"
    }
   ],
   "source": [
    "from sklearn.metrics import log_loss\n",
    "log_loss(y_test, yhat_prob)"
   ]
  },
  {
   "cell_type": "markdown",
   "id": "490bd600",
   "metadata": {
    "papermill": {
     "duration": 0.013039,
     "end_time": "2023-03-04T10:46:19.246777",
     "exception": false,
     "start_time": "2023-03-04T10:46:19.233738",
     "status": "completed"
    },
    "tags": []
   },
   "source": [
    "# jaccard index"
   ]
  },
  {
   "cell_type": "code",
   "execution_count": 30,
   "id": "058d55a7",
   "metadata": {
    "execution": {
     "iopub.execute_input": "2023-03-04T10:46:19.276419Z",
     "iopub.status.busy": "2023-03-04T10:46:19.276019Z",
     "iopub.status.idle": "2023-03-04T10:46:19.286327Z",
     "shell.execute_reply": "2023-03-04T10:46:19.285029Z"
    },
    "papermill": {
     "duration": 0.027567,
     "end_time": "2023-03-04T10:46:19.288688",
     "exception": false,
     "start_time": "2023-03-04T10:46:19.261121",
     "status": "completed"
    },
    "tags": []
   },
   "outputs": [
    {
     "data": {
      "text/plain": [
       "0.6082191780821918"
      ]
     },
     "execution_count": 30,
     "metadata": {},
     "output_type": "execute_result"
    }
   ],
   "source": [
    "from sklearn.metrics import jaccard_score\n",
    "jaccard_score(y_test, y_,pos_label=0)"
   ]
  },
  {
   "cell_type": "markdown",
   "id": "05ecb69d",
   "metadata": {
    "papermill": {
     "duration": 0.014416,
     "end_time": "2023-03-04T10:46:19.316700",
     "exception": false,
     "start_time": "2023-03-04T10:46:19.302284",
     "status": "completed"
    },
    "tags": []
   },
   "source": [
    "As you can see the model evaluation tells that the Model is not well trained and thats because of quick cleaning and droping a lot of important factors that is neccessery for the target value !!!!"
   ]
  },
  {
   "cell_type": "markdown",
   "id": "e766266e",
   "metadata": {
    "papermill": {
     "duration": 0.013256,
     "end_time": "2023-03-04T10:46:19.343858",
     "exception": false,
     "start_time": "2023-03-04T10:46:19.330602",
     "status": "completed"
    },
    "tags": []
   },
   "source": [
    "# Submit"
   ]
  },
  {
   "cell_type": "code",
   "execution_count": 31,
   "id": "61d96686",
   "metadata": {
    "execution": {
     "iopub.execute_input": "2023-03-04T10:46:19.373013Z",
     "iopub.status.busy": "2023-03-04T10:46:19.372346Z",
     "iopub.status.idle": "2023-03-04T10:46:19.395555Z",
     "shell.execute_reply": "2023-03-04T10:46:19.394334Z"
    },
    "papermill": {
     "duration": 0.040592,
     "end_time": "2023-03-04T10:46:19.397906",
     "exception": false,
     "start_time": "2023-03-04T10:46:19.357314",
     "status": "completed"
    },
    "tags": []
   },
   "outputs": [
    {
     "data": {
      "text/html": [
       "<div>\n",
       "<style scoped>\n",
       "    .dataframe tbody tr th:only-of-type {\n",
       "        vertical-align: middle;\n",
       "    }\n",
       "\n",
       "    .dataframe tbody tr th {\n",
       "        vertical-align: top;\n",
       "    }\n",
       "\n",
       "    .dataframe thead th {\n",
       "        text-align: right;\n",
       "    }\n",
       "</style>\n",
       "<table border=\"1\" class=\"dataframe\">\n",
       "  <thead>\n",
       "    <tr style=\"text-align: right;\">\n",
       "      <th></th>\n",
       "      <th>PassengerId</th>\n",
       "      <th>CryoSleep</th>\n",
       "      <th>Age</th>\n",
       "      <th>VIP</th>\n",
       "      <th>RoomService</th>\n",
       "      <th>FoodCourt</th>\n",
       "      <th>ShoppingMall</th>\n",
       "      <th>Spa</th>\n",
       "      <th>VRDeck</th>\n",
       "    </tr>\n",
       "  </thead>\n",
       "  <tbody>\n",
       "    <tr>\n",
       "      <th>0</th>\n",
       "      <td>0013_01</td>\n",
       "      <td>1</td>\n",
       "      <td>27.00000</td>\n",
       "      <td>0</td>\n",
       "      <td>0.0</td>\n",
       "      <td>0.0</td>\n",
       "      <td>0.0</td>\n",
       "      <td>0.0</td>\n",
       "      <td>0.0</td>\n",
       "    </tr>\n",
       "    <tr>\n",
       "      <th>1</th>\n",
       "      <td>0018_01</td>\n",
       "      <td>0</td>\n",
       "      <td>19.00000</td>\n",
       "      <td>0</td>\n",
       "      <td>0.0</td>\n",
       "      <td>9.0</td>\n",
       "      <td>0.0</td>\n",
       "      <td>2823.0</td>\n",
       "      <td>0.0</td>\n",
       "    </tr>\n",
       "    <tr>\n",
       "      <th>2</th>\n",
       "      <td>0019_01</td>\n",
       "      <td>1</td>\n",
       "      <td>31.00000</td>\n",
       "      <td>0</td>\n",
       "      <td>0.0</td>\n",
       "      <td>0.0</td>\n",
       "      <td>0.0</td>\n",
       "      <td>0.0</td>\n",
       "      <td>0.0</td>\n",
       "    </tr>\n",
       "    <tr>\n",
       "      <th>3</th>\n",
       "      <td>0021_01</td>\n",
       "      <td>0</td>\n",
       "      <td>38.00000</td>\n",
       "      <td>0</td>\n",
       "      <td>0.0</td>\n",
       "      <td>6652.0</td>\n",
       "      <td>0.0</td>\n",
       "      <td>181.0</td>\n",
       "      <td>585.0</td>\n",
       "    </tr>\n",
       "    <tr>\n",
       "      <th>4</th>\n",
       "      <td>0023_01</td>\n",
       "      <td>0</td>\n",
       "      <td>20.00000</td>\n",
       "      <td>0</td>\n",
       "      <td>10.0</td>\n",
       "      <td>0.0</td>\n",
       "      <td>635.0</td>\n",
       "      <td>0.0</td>\n",
       "      <td>0.0</td>\n",
       "    </tr>\n",
       "    <tr>\n",
       "      <th>...</th>\n",
       "      <td>...</td>\n",
       "      <td>...</td>\n",
       "      <td>...</td>\n",
       "      <td>...</td>\n",
       "      <td>...</td>\n",
       "      <td>...</td>\n",
       "      <td>...</td>\n",
       "      <td>...</td>\n",
       "      <td>...</td>\n",
       "    </tr>\n",
       "    <tr>\n",
       "      <th>4272</th>\n",
       "      <td>9266_02</td>\n",
       "      <td>1</td>\n",
       "      <td>34.00000</td>\n",
       "      <td>0</td>\n",
       "      <td>0.0</td>\n",
       "      <td>0.0</td>\n",
       "      <td>0.0</td>\n",
       "      <td>0.0</td>\n",
       "      <td>0.0</td>\n",
       "    </tr>\n",
       "    <tr>\n",
       "      <th>4273</th>\n",
       "      <td>9269_01</td>\n",
       "      <td>0</td>\n",
       "      <td>42.00000</td>\n",
       "      <td>0</td>\n",
       "      <td>0.0</td>\n",
       "      <td>847.0</td>\n",
       "      <td>17.0</td>\n",
       "      <td>10.0</td>\n",
       "      <td>144.0</td>\n",
       "    </tr>\n",
       "    <tr>\n",
       "      <th>4274</th>\n",
       "      <td>9271_01</td>\n",
       "      <td>1</td>\n",
       "      <td>28.82793</td>\n",
       "      <td>0</td>\n",
       "      <td>0.0</td>\n",
       "      <td>0.0</td>\n",
       "      <td>0.0</td>\n",
       "      <td>0.0</td>\n",
       "      <td>0.0</td>\n",
       "    </tr>\n",
       "    <tr>\n",
       "      <th>4275</th>\n",
       "      <td>9273_01</td>\n",
       "      <td>0</td>\n",
       "      <td>28.82793</td>\n",
       "      <td>0</td>\n",
       "      <td>0.0</td>\n",
       "      <td>2680.0</td>\n",
       "      <td>0.0</td>\n",
       "      <td>0.0</td>\n",
       "      <td>523.0</td>\n",
       "    </tr>\n",
       "    <tr>\n",
       "      <th>4276</th>\n",
       "      <td>9277_01</td>\n",
       "      <td>1</td>\n",
       "      <td>43.00000</td>\n",
       "      <td>0</td>\n",
       "      <td>0.0</td>\n",
       "      <td>0.0</td>\n",
       "      <td>0.0</td>\n",
       "      <td>0.0</td>\n",
       "      <td>0.0</td>\n",
       "    </tr>\n",
       "  </tbody>\n",
       "</table>\n",
       "<p>4277 rows × 9 columns</p>\n",
       "</div>"
      ],
      "text/plain": [
       "     PassengerId  CryoSleep       Age  VIP  RoomService  FoodCourt  \\\n",
       "0        0013_01          1  27.00000    0          0.0        0.0   \n",
       "1        0018_01          0  19.00000    0          0.0        9.0   \n",
       "2        0019_01          1  31.00000    0          0.0        0.0   \n",
       "3        0021_01          0  38.00000    0          0.0     6652.0   \n",
       "4        0023_01          0  20.00000    0         10.0        0.0   \n",
       "...          ...        ...       ...  ...          ...        ...   \n",
       "4272     9266_02          1  34.00000    0          0.0        0.0   \n",
       "4273     9269_01          0  42.00000    0          0.0      847.0   \n",
       "4274     9271_01          1  28.82793    0          0.0        0.0   \n",
       "4275     9273_01          0  28.82793    0          0.0     2680.0   \n",
       "4276     9277_01          1  43.00000    0          0.0        0.0   \n",
       "\n",
       "      ShoppingMall     Spa  VRDeck  \n",
       "0              0.0     0.0     0.0  \n",
       "1              0.0  2823.0     0.0  \n",
       "2              0.0     0.0     0.0  \n",
       "3              0.0   181.0   585.0  \n",
       "4            635.0     0.0     0.0  \n",
       "...            ...     ...     ...  \n",
       "4272           0.0     0.0     0.0  \n",
       "4273          17.0    10.0   144.0  \n",
       "4274           0.0     0.0     0.0  \n",
       "4275           0.0     0.0   523.0  \n",
       "4276           0.0     0.0     0.0  \n",
       "\n",
       "[4277 rows x 9 columns]"
      ]
     },
     "execution_count": 31,
     "metadata": {},
     "output_type": "execute_result"
    }
   ],
   "source": [
    "testx"
   ]
  },
  {
   "cell_type": "code",
   "execution_count": 32,
   "id": "3f965f51",
   "metadata": {
    "execution": {
     "iopub.execute_input": "2023-03-04T10:46:19.427367Z",
     "iopub.status.busy": "2023-03-04T10:46:19.426696Z",
     "iopub.status.idle": "2023-03-04T10:46:19.442297Z",
     "shell.execute_reply": "2023-03-04T10:46:19.440763Z"
    },
    "papermill": {
     "duration": 0.03419,
     "end_time": "2023-03-04T10:46:19.445755",
     "exception": false,
     "start_time": "2023-03-04T10:46:19.411565",
     "status": "completed"
    },
    "tags": []
   },
   "outputs": [
    {
     "name": "stdout",
     "output_type": "stream",
     "text": [
      "Your submission was successfully saved!\n"
     ]
    }
   ],
   "source": [
    "output = pd.DataFrame({'PassengerId': testx.PassengerId, 'Transported': yyyy})\n",
    "output.to_csv('submission.csv', index=False)\n",
    "print(\"Your submission was successfully saved!\")"
   ]
  },
  {
   "cell_type": "code",
   "execution_count": null,
   "id": "63f04193",
   "metadata": {
    "papermill": {
     "duration": 0.014129,
     "end_time": "2023-03-04T10:46:19.474282",
     "exception": false,
     "start_time": "2023-03-04T10:46:19.460153",
     "status": "completed"
    },
    "tags": []
   },
   "outputs": [],
   "source": []
  }
 ],
 "metadata": {
  "kernelspec": {
   "display_name": "Python 3",
   "language": "python",
   "name": "python3"
  },
  "language_info": {
   "codemirror_mode": {
    "name": "ipython",
    "version": 3
   },
   "file_extension": ".py",
   "mimetype": "text/x-python",
   "name": "python",
   "nbconvert_exporter": "python",
   "pygments_lexer": "ipython3",
   "version": "3.7.12"
  },
  "papermill": {
   "default_parameters": {},
   "duration": 16.650736,
   "end_time": "2023-03-04T10:46:22.475904",
   "environment_variables": {},
   "exception": null,
   "input_path": "__notebook__.ipynb",
   "output_path": "__notebook__.ipynb",
   "parameters": {},
   "start_time": "2023-03-04T10:46:05.825168",
   "version": "2.3.4"
  }
 },
 "nbformat": 4,
 "nbformat_minor": 5
}
